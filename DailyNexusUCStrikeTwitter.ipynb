{
 "cells": [
  {
   "cell_type": "code",
   "execution_count": 1,
   "metadata": {},
   "outputs": [
    {
     "name": "stdout",
     "output_type": "stream",
     "text": [
      "Defaulting to user installation because normal site-packages is not writeable\n",
      "Requirement already satisfied: textblob in c:\\users\\yeahs\\appdata\\roaming\\python\\python39\\site-packages (0.17.1)\n",
      "Requirement already satisfied: nltk>=3.1 in c:\\programdata\\anaconda3\\lib\\site-packages (from textblob) (3.7)\n",
      "Requirement already satisfied: tqdm in c:\\programdata\\anaconda3\\lib\\site-packages (from nltk>=3.1->textblob) (4.64.1)\n",
      "Requirement already satisfied: regex>=2021.8.3 in c:\\programdata\\anaconda3\\lib\\site-packages (from nltk>=3.1->textblob) (2022.7.9)\n",
      "Requirement already satisfied: joblib in c:\\programdata\\anaconda3\\lib\\site-packages (from nltk>=3.1->textblob) (1.1.0)\n",
      "Requirement already satisfied: click in c:\\programdata\\anaconda3\\lib\\site-packages (from nltk>=3.1->textblob) (8.0.4)\n",
      "Requirement already satisfied: colorama in c:\\programdata\\anaconda3\\lib\\site-packages (from click->nltk>=3.1->textblob) (0.4.5)\n",
      "Defaulting to user installation because normal site-packages is not writeable\n",
      "Requirement already satisfied: tweepy in c:\\users\\yeahs\\appdata\\roaming\\python\\python39\\site-packages (4.12.1)\n",
      "Requirement already satisfied: oauthlib<4,>=3.2.0 in c:\\users\\yeahs\\appdata\\roaming\\python\\python39\\site-packages (from tweepy) (3.2.2)\n",
      "Requirement already satisfied: requests-oauthlib<2,>=1.2.0 in c:\\users\\yeahs\\appdata\\roaming\\python\\python39\\site-packages (from tweepy) (1.3.1)\n",
      "Requirement already satisfied: requests<3,>=2.27.0 in c:\\programdata\\anaconda3\\lib\\site-packages (from tweepy) (2.28.1)\n",
      "Requirement already satisfied: charset-normalizer<3,>=2 in c:\\programdata\\anaconda3\\lib\\site-packages (from requests<3,>=2.27.0->tweepy) (2.0.4)\n",
      "Requirement already satisfied: urllib3<1.27,>=1.21.1 in c:\\programdata\\anaconda3\\lib\\site-packages (from requests<3,>=2.27.0->tweepy) (1.26.11)\n",
      "Requirement already satisfied: certifi>=2017.4.17 in c:\\programdata\\anaconda3\\lib\\site-packages (from requests<3,>=2.27.0->tweepy) (2022.9.14)\n",
      "Requirement already satisfied: idna<4,>=2.5 in c:\\programdata\\anaconda3\\lib\\site-packages (from requests<3,>=2.27.0->tweepy) (3.3)\n",
      "Defaulting to user installation because normal site-packages is not writeable\n",
      "Requirement already satisfied: pycountry in c:\\users\\yeahs\\appdata\\roaming\\python\\python39\\site-packages (22.3.5)\n",
      "Requirement already satisfied: setuptools in c:\\programdata\\anaconda3\\lib\\site-packages (from pycountry) (63.4.1)\n",
      "Defaulting to user installation because normal site-packages is not writeable\n",
      "Requirement already satisfied: wordcloud in c:\\users\\yeahs\\appdata\\roaming\\python\\python39\\site-packages (1.8.2.2)\n",
      "Requirement already satisfied: numpy>=1.6.1 in c:\\programdata\\anaconda3\\lib\\site-packages (from wordcloud) (1.21.5)\n",
      "Requirement already satisfied: pillow in c:\\programdata\\anaconda3\\lib\\site-packages (from wordcloud) (9.2.0)\n",
      "Requirement already satisfied: matplotlib in c:\\programdata\\anaconda3\\lib\\site-packages (from wordcloud) (3.5.2)\n",
      "Requirement already satisfied: pyparsing>=2.2.1 in c:\\programdata\\anaconda3\\lib\\site-packages (from matplotlib->wordcloud) (3.0.9)\n",
      "Requirement already satisfied: cycler>=0.10 in c:\\programdata\\anaconda3\\lib\\site-packages (from matplotlib->wordcloud) (0.11.0)\n",
      "Requirement already satisfied: kiwisolver>=1.0.1 in c:\\programdata\\anaconda3\\lib\\site-packages (from matplotlib->wordcloud) (1.4.2)\n",
      "Requirement already satisfied: python-dateutil>=2.7 in c:\\programdata\\anaconda3\\lib\\site-packages (from matplotlib->wordcloud) (2.8.2)\n",
      "Requirement already satisfied: packaging>=20.0 in c:\\programdata\\anaconda3\\lib\\site-packages (from matplotlib->wordcloud) (21.3)\n",
      "Requirement already satisfied: fonttools>=4.22.0 in c:\\programdata\\anaconda3\\lib\\site-packages (from matplotlib->wordcloud) (4.25.0)\n",
      "Requirement already satisfied: six>=1.5 in c:\\programdata\\anaconda3\\lib\\site-packages (from python-dateutil>=2.7->matplotlib->wordcloud) (1.16.0)\n",
      "Defaulting to user installation because normal site-packages is not writeable\n"
     ]
    },
    {
     "name": "stderr",
     "output_type": "stream",
     "text": [
      "ERROR: Could not find a version that satisfies the requirement PIL (from versions: none)\n",
      "ERROR: No matching distribution found for PIL\n"
     ]
    },
    {
     "name": "stdout",
     "output_type": "stream",
     "text": [
      "Defaulting to user installation because normal site-packages is not writeable\n",
      "Requirement already satisfied: langdetect in c:\\users\\yeahs\\appdata\\roaming\\python\\python39\\site-packages (1.0.9)\n",
      "Requirement already satisfied: six in c:\\programdata\\anaconda3\\lib\\site-packages (from langdetect) (1.16.0)\n"
     ]
    }
   ],
   "source": [
    "# Import Libraries\n",
    "!pip install textblob\n",
    "!pip install tweepy\n",
    "!pip install pycountry\n",
    "!pip install wordcloud\n",
    "!pip install PIL\n",
    "!pip install langdetect\n",
    "from textblob import TextBlob\n",
    "import sys\n",
    "import tweepy\n",
    "import matplotlib.pyplot as plt\n",
    "import pandas as pd\n",
    "import numpy as np\n",
    "import os\n",
    "import nltk\n",
    "import pycountry\n",
    "import re\n",
    "import string\n",
    "from wordcloud import WordCloud, STOPWORDS\n",
    "from PIL import Image\n",
    "from nltk.sentiment.vader import SentimentIntensityAnalyzer\n",
    "from langdetect import detect\n",
    "from nltk.stem import SnowballStemmer\n",
    "from nltk.sentiment.vader import SentimentIntensityAnalyzer\n",
    "from sklearn.feature_extraction.text import CountVectorizer"
   ]
  },
  {
   "cell_type": "code",
   "execution_count": 17,
   "metadata": {},
   "outputs": [
    {
     "name": "stdout",
     "output_type": "stream",
     "text": [
      "Defaulting to user installation because normal site-packages is not writeable\n",
      "Requirement already satisfied: snscrape in c:\\users\\yeahs\\appdata\\roaming\\python\\python39\\site-packages (0.5.0.20230113)\n",
      "Requirement already satisfied: lxml in c:\\programdata\\anaconda3\\lib\\site-packages (from snscrape) (4.9.1)\n",
      "Requirement already satisfied: filelock in c:\\programdata\\anaconda3\\lib\\site-packages (from snscrape) (3.6.0)\n",
      "Requirement already satisfied: beautifulsoup4 in c:\\programdata\\anaconda3\\lib\\site-packages (from snscrape) (4.11.1)\n",
      "Requirement already satisfied: requests[socks] in c:\\programdata\\anaconda3\\lib\\site-packages (from snscrape) (2.28.1)\n",
      "Requirement already satisfied: soupsieve>1.2 in c:\\programdata\\anaconda3\\lib\\site-packages (from beautifulsoup4->snscrape) (2.3.1)\n",
      "Requirement already satisfied: idna<4,>=2.5 in c:\\programdata\\anaconda3\\lib\\site-packages (from requests[socks]->snscrape) (3.3)\n",
      "Requirement already satisfied: charset-normalizer<3,>=2 in c:\\programdata\\anaconda3\\lib\\site-packages (from requests[socks]->snscrape) (2.0.4)\n",
      "Requirement already satisfied: urllib3<1.27,>=1.21.1 in c:\\programdata\\anaconda3\\lib\\site-packages (from requests[socks]->snscrape) (1.26.11)\n",
      "Requirement already satisfied: certifi>=2017.4.17 in c:\\programdata\\anaconda3\\lib\\site-packages (from requests[socks]->snscrape) (2022.9.14)\n",
      "Requirement already satisfied: PySocks!=1.5.7,>=1.5.6 in c:\\programdata\\anaconda3\\lib\\site-packages (from requests[socks]->snscrape) (1.7.1)\n"
     ]
    },
    {
     "name": "stderr",
     "output_type": "stream",
     "text": [
      "C:\\Users\\yeahs\\AppData\\Local\\Temp\\ipykernel_25304\\3551802829.py:18: FutureWarning: content is deprecated, use rawContent instead\n",
      "  tweets_list.append([tweet.content])\n"
     ]
    },
    {
     "name": "stdout",
     "output_type": "stream",
     "text": [
      "Neutral     381\n",
      "Positive    291\n",
      "Negative     95\n",
      "Name: Analysis, dtype: int64\n"
     ]
    }
   ],
   "source": [
    "from datetime import date\n",
    "!pip install snscrape\n",
    "import snscrape.modules.twitter as sntwitter\n",
    "import pandas as pd\n",
    "import numpy as np\n",
    "\n",
    "# Create a list to append tweet data\n",
    "keywords = ['UCSB strike', 'UCSB TA', 'UCSB grad', 'UCSB grading', 'UCSB UAW', 'UCSB agreement', 'UCSB striking', 'UCSB research', 'UCSB union', 'UCSB protest', 'UCSB picket', 'SB strike']\n",
    "tweets_list = []\n",
    "start = \"2022-11-07\"\n",
    "end = \"2022-12-26\"\n",
    "maxTweets = 1000\n",
    "# Using TwitterSearchScraper to scrape data and append tweets to list\n",
    "for keyword in keywords:\n",
    "    for i,tweet in enumerate(sntwitter.TwitterSearchScraper(f'{keyword} + since:{start} until:{end} + include:replies').get_items()):\n",
    "        if i>maxTweets:\n",
    "            break\n",
    "        tweets_list.append([tweet.content])\n",
    "    \n",
    "# Creating a dataframe from the tweets list above\n",
    "tweets_to_df = pd.DataFrame(tweets_list, columns=['Tweets'])\n",
    "\n",
    "\n",
    "#clean the tweets with a function\n",
    "def cleanTweets(text):\n",
    "    text = re.sub('@[A-Za-z0-9_]+', '', text) #removes @mentions\n",
    "    text = re.sub('#','',text) #removes hastag '#' symbol\n",
    "    text = re.sub('RT[\\s]+','',text)\n",
    "    text = re.sub('https?:\\/\\/\\S+', '', text) \n",
    "    text = re.sub('\\n',' ',text)\n",
    "    return text\n",
    "tweets_to_df['cleanedTweets'] = tweets_to_df['Tweets'].apply(cleanTweets) #apply cleanTweet function to the tweet\n",
    "\n",
    "\n",
    "tweets_to_df.to_csv('tweets_crypto.csv') #write dataframe into csv file\n",
    "savedTweets = pd.read_csv('tweets_crypto.csv',index_col=0) #reads csv file\n",
    "\n",
    "#get subjectivity and polarity of tweets with a function\n",
    "def getSubjectivity(text):\n",
    "    return TextBlob(text).sentiment.subjectivity\n",
    "#get polarity with a function\n",
    "def getPolarity(text):\n",
    "    return TextBlob(text).sentiment.polarity\n",
    "savedTweets['Subjectivity'] = savedTweets['cleanedTweets'].apply(getSubjectivity)\n",
    "savedTweets['Polarity'] = savedTweets['cleanedTweets'].apply(getPolarity)\n",
    "\n",
    "#create a function to check negative, neutral and positive analysis\n",
    "def getAnalysis(score):\n",
    "    if score<=-0.1:\n",
    "        return 'Negative'\n",
    "    elif score >-0.1 and score <0.1:\n",
    "        return 'Neutral'\n",
    "    else:\n",
    "        return 'Positive'\n",
    "    \n",
    "savedTweets['Analysis'] = savedTweets['Polarity'].apply(getAnalysis)\n",
    "\n",
    "print(savedTweets['Analysis'].value_counts())#shows the counts of tweets' polarity\n",
    "\n",
    "import matplotlib.pyplot as plt\n",
    "\n",
    "X = ['Week 0', 'Week 1','Week 2','Week 3', 'Week 4', 'Week 5', 'Week 6']\n",
    "\n",
    "Neutral = [59, 124, 42, 47, 33, 33, 43]\n",
    "Positive = [33, 79, 27, 46, 23, 39, 44]\n",
    "Negative = [12, 18, 11, 7, 6, 22, 19]\n"
   ]
  },
  {
   "cell_type": "code",
   "execution_count": 18,
   "metadata": {},
   "outputs": [
    {
     "name": "stdout",
     "output_type": "stream",
     "text": [
      "Neutral: 381\n",
      "Positive: 291\n",
      "Negative: 95\n"
     ]
    }
   ],
   "source": [
    "summation = 0\n",
    "for n in Neutral:\n",
    "    summation += n\n",
    "print('Neutral:', summation)\n",
    "summation = 0\n",
    "for n in Positive:\n",
    "    summation += n\n",
    "print('Positive:', summation)\n",
    "summation = 0\n",
    "for n in Negative:\n",
    "    summation += n\n",
    "print('Negative:', summation)\n"
   ]
  },
  {
   "cell_type": "code",
   "execution_count": 3,
   "metadata": {},
   "outputs": [
    {
     "data": {
      "image/png": "[encoded data removed]",
      "text/plain": [
       "<Figure size 640x480 with 1 Axes>"
      ]
     },
     "metadata": {},
     "output_type": "display_data"
    }
   ],
   "source": [
    "X_axis = np.arange(len(X))\n",
    "  \n",
    "plt.bar(X_axis - 0.1, Negative, 0.2, label = 'Negative', color='red')\n",
    "plt.bar(X_axis + 0, Positive, 0.2, label = 'Positive', color='green')\n",
    "plt.bar(X_axis + 0.1, Neutral, 0.2, label = 'Neutral', color='#FDDA0D')\n",
    "  \n",
    "plt.xticks(X_axis, X)\n",
    "plt.xlabel(\"Weeks\")\n",
    "plt.ylabel(\"Number of Tweets\")\n",
    "plt.title(\"Overall Sentiment Trend\")\n",
    "plt.legend()\n",
    "plt.show()"
   ]
  },
  {
   "cell_type": "code",
   "execution_count": 4,
   "metadata": {},
   "outputs": [
    {
     "name": "stderr",
     "output_type": "stream",
     "text": [
      "C:\\Users\\yeahs\\AppData\\Local\\Temp\\ipykernel_25304\\1939886866.py:17: FutureWarning: content is deprecated, use rawContent instead\n",
      "  tweets_list.append([tweet.content])\n"
     ]
    },
    {
     "data": {
      "text/plain": [
       "Neutral     59\n",
       "Positive    33\n",
       "Negative    12\n",
       "Name: Analysis, dtype: int64"
      ]
     },
     "execution_count": 4,
     "metadata": {},
     "output_type": "execute_result"
    }
   ],
   "source": [
    "from datetime import date\n",
    "import snscrape.modules.twitter as sntwitter\n",
    "import pandas as pd\n",
    "import numpy as np\n",
    "\n",
    "# Create a list to append tweet data\n",
    "keywords = ['UCSB strike', 'UCSB TA', 'UCSB grad', 'UCSB grading', 'UCSB UAW', 'UCSB agreement', 'UCSB striking', 'UCSB research', 'UCSB union', 'UCSB protest', 'UCSB picket', 'SB strike']\n",
    "tweets_list = []\n",
    "start = \"2022-11-07\"\n",
    "end = \"2022-11-14\"\n",
    "maxTweets = 1000\n",
    "# Using TwitterSearchScraper to scrape data and append tweets to list\n",
    "for keyword in keywords:\n",
    "    for i,tweet in enumerate(sntwitter.TwitterSearchScraper(f'{keyword} + since:{start} until:{end} + include:replies').get_items()):\n",
    "        if i>maxTweets:\n",
    "            break\n",
    "        tweets_list.append([tweet.content])\n",
    "    \n",
    "# Creating a dataframe from the tweets list above\n",
    "tweets_to_df = pd.DataFrame(tweets_list, columns=['Tweets'])\n",
    "\n",
    "\n",
    "#clean the tweets with a function\n",
    "def cleanTweets(text):\n",
    "    text = re.sub('@[A-Za-z0-9_]+', '', text) #removes @mentions\n",
    "    text = re.sub('#','',text) #removes hastag '#' symbol\n",
    "    text = re.sub('RT[\\s]+','',text)\n",
    "    text = re.sub('https?:\\/\\/\\S+', '', text) \n",
    "    text = re.sub('\\n',' ',text)\n",
    "    return text\n",
    "tweets_to_df['cleanedTweets'] = tweets_to_df['Tweets'].apply(cleanTweets) #apply cleanTweet function to the tweet\n",
    "\n",
    "\n",
    "tweets_to_df.to_csv('tweets_crypto.csv') #write dataframe into csv file\n",
    "savedTweets = pd.read_csv('tweets_crypto.csv',index_col=0) #reads csv file\n",
    "\n",
    "#get subjectivity and polarity of tweets with a function\n",
    "def getSubjectivity(text):\n",
    "    return TextBlob(text).sentiment.subjectivity\n",
    "#get polarity with a function\n",
    "def getPolarity(text):\n",
    "    return TextBlob(text).sentiment.polarity\n",
    "savedTweets['Subjectivity'] = savedTweets['cleanedTweets'].apply(getSubjectivity)\n",
    "savedTweets['Polarity'] = savedTweets['cleanedTweets'].apply(getPolarity)\n",
    "\n",
    "#create a function to check negative, neutral and positive analysis\n",
    "def getAnalysis(score):\n",
    "    if score<=-0.1:\n",
    "        return 'Negative'\n",
    "    elif score >-0.1 and score <0.1:\n",
    "        return 'Neutral'\n",
    "    else:\n",
    "        return 'Positive'\n",
    "    \n",
    "savedTweets['Analysis'] = savedTweets['Polarity'].apply(getAnalysis)\n",
    "\n",
    "savedTweets['Analysis'].value_counts() #shows the counts of tweets' polarity\n"
   ]
  },
  {
   "cell_type": "code",
   "execution_count": 5,
   "metadata": {},
   "outputs": [
    {
     "name": "stderr",
     "output_type": "stream",
     "text": [
      "C:\\Users\\yeahs\\AppData\\Local\\Temp\\ipykernel_25304\\545868453.py:17: FutureWarning: content is deprecated, use rawContent instead\n",
      "  tweets_list.append([tweet.content])\n"
     ]
    },
    {
     "data": {
      "text/plain": [
       "Neutral     124\n",
       "Positive     79\n",
       "Negative     18\n",
       "Name: Analysis, dtype: int64"
      ]
     },
     "execution_count": 5,
     "metadata": {},
     "output_type": "execute_result"
    }
   ],
   "source": [
    "from datetime import date\n",
    "import snscrape.modules.twitter as sntwitter\n",
    "import pandas as pd\n",
    "import numpy as np\n",
    "\n",
    "# Create a list to append tweet data\n",
    "keywords = ['UCSB strike', 'UCSB TA', 'UCSB grad', 'UCSB grading', 'UCSB UAW', 'UCSB agreement', 'UCSB striking', 'UCSB research', 'UCSB union', 'UCSB protest', 'UCSB picket', 'SB strike']\n",
    "tweets_list = []\n",
    "start = \"2022-11-14\"\n",
    "end = \"2022-11-21\"\n",
    "maxTweets = 1000\n",
    "# Using TwitterSearchScraper to scrape data and append tweets to list\n",
    "for keyword in keywords:\n",
    "    for i,tweet in enumerate(sntwitter.TwitterSearchScraper(f'{keyword} + since:{start} until:{end} + include:replies').get_items()):\n",
    "        if i>maxTweets:\n",
    "            break\n",
    "        tweets_list.append([tweet.content])\n",
    "    \n",
    "# Creating a dataframe from the tweets list above\n",
    "tweets_to_df = pd.DataFrame(tweets_list, columns=['Tweets'])\n",
    "\n",
    "\n",
    "#clean the tweets with a function\n",
    "def cleanTweets(text):\n",
    "    text = re.sub('@[A-Za-z0-9_]+', '', text) #removes @mentions\n",
    "    text = re.sub('#','',text) #removes hastag '#' symbol\n",
    "    text = re.sub('RT[\\s]+','',text)\n",
    "    text = re.sub('https?:\\/\\/\\S+', '', text) \n",
    "    text = re.sub('\\n',' ',text)\n",
    "    return text\n",
    "tweets_to_df['cleanedTweets'] = tweets_to_df['Tweets'].apply(cleanTweets) #apply cleanTweet function to the tweet\n",
    "\n",
    "\n",
    "tweets_to_df.to_csv('tweets_crypto.csv') #write dataframe into csv file\n",
    "savedTweets = pd.read_csv('tweets_crypto.csv',index_col=0) #reads csv file\n",
    "\n",
    "#get subjectivity and polarity of tweets with a function\n",
    "def getSubjectivity(text):\n",
    "    return TextBlob(text).sentiment.subjectivity\n",
    "#get polarity with a function\n",
    "def getPolarity(text):\n",
    "    return TextBlob(text).sentiment.polarity\n",
    "savedTweets['Subjectivity'] = savedTweets['cleanedTweets'].apply(getSubjectivity)\n",
    "savedTweets['Polarity'] = savedTweets['cleanedTweets'].apply(getPolarity)\n",
    "\n",
    "#create a function to check negative, neutral and positive analysis\n",
    "def getAnalysis(score):\n",
    "    if score<=-0.1:\n",
    "        return 'Negative'\n",
    "    elif score >-0.1 and score <0.1:\n",
    "        return 'Neutral'\n",
    "    else:\n",
    "        return 'Positive'\n",
    "    \n",
    "savedTweets['Analysis'] = savedTweets['Polarity'].apply(getAnalysis)\n",
    "\n",
    "savedTweets['Analysis'].value_counts() #shows the counts of tweets' polarity\n"
   ]
  },
  {
   "cell_type": "code",
   "execution_count": 6,
   "metadata": {},
   "outputs": [
    {
     "name": "stderr",
     "output_type": "stream",
     "text": [
      "C:\\Users\\yeahs\\AppData\\Local\\Temp\\ipykernel_25304\\2532125518.py:17: FutureWarning: content is deprecated, use rawContent instead\n",
      "  tweets_list.append([tweet.content])\n"
     ]
    },
    {
     "data": {
      "text/plain": [
       "Neutral     42\n",
       "Positive    27\n",
       "Negative    11\n",
       "Name: Analysis, dtype: int64"
      ]
     },
     "execution_count": 6,
     "metadata": {},
     "output_type": "execute_result"
    }
   ],
   "source": [
    "from datetime import date\n",
    "import snscrape.modules.twitter as sntwitter\n",
    "import pandas as pd\n",
    "import numpy as np\n",
    "\n",
    "# Create a list to append tweet data\n",
    "keywords = ['UCSB strike', 'UCSB TA', 'UCSB grad', 'UCSB grading', 'UCSB UAW', 'UCSB agreement', 'UCSB striking', 'UCSB research', 'UCSB union', 'UCSB protest', 'UCSB picket', 'SB strike']\n",
    "tweets_list = []\n",
    "start = \"2022-11-21\"\n",
    "end = \"2022-11-28\"\n",
    "maxTweets = 1000\n",
    "# Using TwitterSearchScraper to scrape data and append tweets to list\n",
    "for keyword in keywords:\n",
    "    for i,tweet in enumerate(sntwitter.TwitterSearchScraper(f'{keyword} + since:{start} until:{end} + include:replies').get_items()):\n",
    "        if i>maxTweets:\n",
    "            break\n",
    "        tweets_list.append([tweet.content])\n",
    "    \n",
    "# Creating a dataframe from the tweets list above\n",
    "tweets_to_df = pd.DataFrame(tweets_list, columns=['Tweets'])\n",
    "\n",
    "\n",
    "#clean the tweets with a function\n",
    "def cleanTweets(text):\n",
    "    text = re.sub('@[A-Za-z0-9_]+', '', text) #removes @mentions\n",
    "    text = re.sub('#','',text) #removes hastag '#' symbol\n",
    "    text = re.sub('RT[\\s]+','',text)\n",
    "    text = re.sub('https?:\\/\\/\\S+', '', text) \n",
    "    text = re.sub('\\n',' ',text)\n",
    "    return text\n",
    "tweets_to_df['cleanedTweets'] = tweets_to_df['Tweets'].apply(cleanTweets) #apply cleanTweet function to the tweet\n",
    "\n",
    "\n",
    "tweets_to_df.to_csv('tweets_crypto.csv') #write dataframe into csv file\n",
    "savedTweets = pd.read_csv('tweets_crypto.csv',index_col=0) #reads csv file\n",
    "\n",
    "#get subjectivity and polarity of tweets with a function\n",
    "def getSubjectivity(text):\n",
    "    return TextBlob(text).sentiment.subjectivity\n",
    "#get polarity with a function\n",
    "def getPolarity(text):\n",
    "    return TextBlob(text).sentiment.polarity\n",
    "savedTweets['Subjectivity'] = savedTweets['cleanedTweets'].apply(getSubjectivity)\n",
    "savedTweets['Polarity'] = savedTweets['cleanedTweets'].apply(getPolarity)\n",
    "\n",
    "#create a function to check negative, neutral and positive analysis\n",
    "def getAnalysis(score):\n",
    "    if score<=-0.1:\n",
    "        return 'Negative'\n",
    "    elif score >-0.1 and score <0.1:\n",
    "        return 'Neutral'\n",
    "    else:\n",
    "        return 'Positive'\n",
    "    \n",
    "savedTweets['Analysis'] = savedTweets['Polarity'].apply(getAnalysis)\n",
    "\n",
    "savedTweets['Analysis'].value_counts() #shows the counts of tweets' polarity\n",
    "\n"
   ]
  },
  {
   "cell_type": "code",
   "execution_count": 7,
   "metadata": {},
   "outputs": [
    {
     "name": "stderr",
     "output_type": "stream",
     "text": [
      "C:\\Users\\yeahs\\AppData\\Local\\Temp\\ipykernel_25304\\1692578792.py:17: FutureWarning: content is deprecated, use rawContent instead\n",
      "  tweets_list.append([tweet.content])\n"
     ]
    },
    {
     "data": {
      "text/plain": [
       "Neutral     47\n",
       "Positive    46\n",
       "Negative     7\n",
       "Name: Analysis, dtype: int64"
      ]
     },
     "execution_count": 7,
     "metadata": {},
     "output_type": "execute_result"
    }
   ],
   "source": [
    "from datetime import date\n",
    "import snscrape.modules.twitter as sntwitter\n",
    "import pandas as pd\n",
    "import numpy as np\n",
    "\n",
    "# Create a list to append tweet data\n",
    "keywords = ['UCSB strike', 'UCSB TA', 'UCSB grad', 'UCSB grading', 'UCSB UAW', 'UCSB agreement', 'UCSB striking', 'UCSB research', 'UCSB union', 'UCSB protest', 'UCSB picket', 'SB strike']\n",
    "tweets_list = []\n",
    "start = \"2022-11-28\"\n",
    "end = \"2022-12-05\"\n",
    "maxTweets = 1000\n",
    "# Using TwitterSearchScraper to scrape data and append tweets to list\n",
    "for keyword in keywords:\n",
    "    for i,tweet in enumerate(sntwitter.TwitterSearchScraper(f'{keyword} + since:{start} until:{end} + include:replies').get_items()):\n",
    "        if i>maxTweets:\n",
    "            break\n",
    "        tweets_list.append([tweet.content])\n",
    "    \n",
    "# Creating a dataframe from the tweets list above\n",
    "tweets_to_df = pd.DataFrame(tweets_list, columns=['Tweets'])\n",
    "\n",
    "\n",
    "#clean the tweets with a function\n",
    "def cleanTweets(text):\n",
    "    text = re.sub('@[A-Za-z0-9_]+', '', text) #removes @mentions\n",
    "    text = re.sub('#','',text) #removes hastag '#' symbol\n",
    "    text = re.sub('RT[\\s]+','',text)\n",
    "    text = re.sub('https?:\\/\\/\\S+', '', text) \n",
    "    text = re.sub('\\n',' ',text)\n",
    "    return text\n",
    "tweets_to_df['cleanedTweets'] = tweets_to_df['Tweets'].apply(cleanTweets) #apply cleanTweet function to the tweet\n",
    "\n",
    "\n",
    "tweets_to_df.to_csv('tweets_crypto.csv') #write dataframe into csv file\n",
    "savedTweets = pd.read_csv('tweets_crypto.csv',index_col=0) #reads csv file\n",
    "\n",
    "#get subjectivity and polarity of tweets with a function\n",
    "def getSubjectivity(text):\n",
    "    return TextBlob(text).sentiment.subjectivity\n",
    "#get polarity with a function\n",
    "def getPolarity(text):\n",
    "    return TextBlob(text).sentiment.polarity\n",
    "savedTweets['Subjectivity'] = savedTweets['cleanedTweets'].apply(getSubjectivity)\n",
    "savedTweets['Polarity'] = savedTweets['cleanedTweets'].apply(getPolarity)\n",
    "\n",
    "#create a function to check negative, neutral and positive analysis\n",
    "def getAnalysis(score):\n",
    "    if score<=-0.1:\n",
    "        return 'Negative'\n",
    "    elif score >-0.1 and score <0.1:\n",
    "        return 'Neutral'\n",
    "    else:\n",
    "        return 'Positive'\n",
    "    \n",
    "savedTweets['Analysis'] = savedTweets['Polarity'].apply(getAnalysis)\n",
    "\n",
    "savedTweets['Analysis'].value_counts() #shows the counts of tweets' polarity\n"
   ]
  },
  {
   "cell_type": "code",
   "execution_count": 8,
   "metadata": {},
   "outputs": [
    {
     "name": "stderr",
     "output_type": "stream",
     "text": [
      "C:\\Users\\yeahs\\AppData\\Local\\Temp\\ipykernel_25304\\4022425698.py:17: FutureWarning: content is deprecated, use rawContent instead\n",
      "  tweets_list.append([tweet.content])\n"
     ]
    },
    {
     "data": {
      "text/plain": [
       "Neutral     33\n",
       "Positive    23\n",
       "Negative     6\n",
       "Name: Analysis, dtype: int64"
      ]
     },
     "execution_count": 8,
     "metadata": {},
     "output_type": "execute_result"
    }
   ],
   "source": [
    "from datetime import date\n",
    "import snscrape.modules.twitter as sntwitter\n",
    "import pandas as pd\n",
    "import numpy as np\n",
    "\n",
    "# Create a list to append tweet data\n",
    "keywords = ['UCSB strike', 'UCSB TA', 'UCSB grad', 'UCSB grading', 'UCSB UAW', 'UCSB agreement', 'UCSB striking', 'UCSB research', 'UCSB union', 'UCSB protest', 'UCSB picket', 'SB strike']\n",
    "tweets_list = []\n",
    "start = \"2022-12-05\"\n",
    "end = \"2022-12-12\"\n",
    "maxTweets = 1000\n",
    "# Using TwitterSearchScraper to scrape data and append tweets to list\n",
    "for keyword in keywords:\n",
    "    for i,tweet in enumerate(sntwitter.TwitterSearchScraper(f'{keyword} + since:{start} until:{end} + include:replies').get_items()):\n",
    "        if i>maxTweets:\n",
    "            break\n",
    "        tweets_list.append([tweet.content])\n",
    "    \n",
    "# Creating a dataframe from the tweets list above\n",
    "tweets_to_df = pd.DataFrame(tweets_list, columns=['Tweets'])\n",
    "\n",
    "\n",
    "#clean the tweets with a function\n",
    "def cleanTweets(text):\n",
    "    text = re.sub('@[A-Za-z0-9_]+', '', text) #removes @mentions\n",
    "    text = re.sub('#','',text) #removes hastag '#' symbol\n",
    "    text = re.sub('RT[\\s]+','',text)\n",
    "    text = re.sub('https?:\\/\\/\\S+', '', text) \n",
    "    text = re.sub('\\n',' ',text)\n",
    "    return text\n",
    "tweets_to_df['cleanedTweets'] = tweets_to_df['Tweets'].apply(cleanTweets) #apply cleanTweet function to the tweet\n",
    "\n",
    "\n",
    "tweets_to_df.to_csv('tweets_crypto.csv') #write dataframe into csv file\n",
    "savedTweets = pd.read_csv('tweets_crypto.csv',index_col=0) #reads csv file\n",
    "\n",
    "#get subjectivity and polarity of tweets with a function\n",
    "def getSubjectivity(text):\n",
    "    return TextBlob(text).sentiment.subjectivity\n",
    "#get polarity with a function\n",
    "def getPolarity(text):\n",
    "    return TextBlob(text).sentiment.polarity\n",
    "savedTweets['Subjectivity'] = savedTweets['cleanedTweets'].apply(getSubjectivity)\n",
    "savedTweets['Polarity'] = savedTweets['cleanedTweets'].apply(getPolarity)\n",
    "\n",
    "#create a function to check negative, neutral and positive analysis\n",
    "def getAnalysis(score):\n",
    "    if score<=-0.1:\n",
    "        return 'Negative'\n",
    "    elif score >-0.1 and score <0.1:\n",
    "        return 'Neutral'\n",
    "    else:\n",
    "        return 'Positive'\n",
    "    \n",
    "savedTweets['Analysis'] = savedTweets['Polarity'].apply(getAnalysis)\n",
    "\n",
    "savedTweets['Analysis'].value_counts() #shows the counts of tweets' polarity\n"
   ]
  },
  {
   "cell_type": "code",
   "execution_count": 9,
   "metadata": {},
   "outputs": [
    {
     "name": "stderr",
     "output_type": "stream",
     "text": [
      "C:\\Users\\yeahs\\AppData\\Local\\Temp\\ipykernel_25304\\2994525503.py:17: FutureWarning: content is deprecated, use rawContent instead\n",
      "  tweets_list.append([tweet.content])\n"
     ]
    },
    {
     "data": {
      "text/plain": [
       "Positive    39\n",
       "Neutral     33\n",
       "Negative    22\n",
       "Name: Analysis, dtype: int64"
      ]
     },
     "execution_count": 9,
     "metadata": {},
     "output_type": "execute_result"
    }
   ],
   "source": [
    "from datetime import date\n",
    "import snscrape.modules.twitter as sntwitter\n",
    "import pandas as pd\n",
    "import numpy as np\n",
    "\n",
    "# Create a list to append tweet data\n",
    "keywords = ['UCSB strike', 'UCSB TA', 'UCSB grad', 'UCSB grading', 'UCSB UAW', 'UCSB agreement', 'UCSB striking', 'UCSB research', 'UCSB union', 'UCSB protest', 'UCSB picket', 'SB strike']\n",
    "tweets_list = []\n",
    "start = \"2022-12-12\"\n",
    "end = \"2022-12-19\"\n",
    "maxTweets = 1000\n",
    "# Using TwitterSearchScraper to scrape data and append tweets to list\n",
    "for keyword in keywords:\n",
    "    for i,tweet in enumerate(sntwitter.TwitterSearchScraper(f'{keyword} + since:{start} until:{end} + include:replies').get_items()):\n",
    "        if i>maxTweets:\n",
    "            break\n",
    "        tweets_list.append([tweet.content])\n",
    "    \n",
    "# Creating a dataframe from the tweets list above\n",
    "tweets_to_df = pd.DataFrame(tweets_list, columns=['Tweets'])\n",
    "\n",
    "\n",
    "#clean the tweets with a function\n",
    "def cleanTweets(text):\n",
    "    text = re.sub('@[A-Za-z0-9_]+', '', text) #removes @mentions\n",
    "    text = re.sub('#','',text) #removes hastag '#' symbol\n",
    "    text = re.sub('RT[\\s]+','',text)\n",
    "    text = re.sub('https?:\\/\\/\\S+', '', text) \n",
    "    text = re.sub('\\n',' ',text)\n",
    "    return text\n",
    "tweets_to_df['cleanedTweets'] = tweets_to_df['Tweets'].apply(cleanTweets) #apply cleanTweet function to the tweet\n",
    "\n",
    "\n",
    "tweets_to_df.to_csv('tweets_crypto.csv') #write dataframe into csv file\n",
    "savedTweets = pd.read_csv('tweets_crypto.csv',index_col=0) #reads csv file\n",
    "\n",
    "#get subjectivity and polarity of tweets with a function\n",
    "def getSubjectivity(text):\n",
    "    return TextBlob(text).sentiment.subjectivity\n",
    "#get polarity with a function\n",
    "def getPolarity(text):\n",
    "    return TextBlob(text).sentiment.polarity\n",
    "savedTweets['Subjectivity'] = savedTweets['cleanedTweets'].apply(getSubjectivity)\n",
    "savedTweets['Polarity'] = savedTweets['cleanedTweets'].apply(getPolarity)\n",
    "\n",
    "#create a function to check negative, neutral and positive analysis\n",
    "def getAnalysis(score):\n",
    "    if score<=-0.1:\n",
    "        return 'Negative'\n",
    "    elif score >-0.1 and score <0.1:\n",
    "        return 'Neutral'\n",
    "    else:\n",
    "        return 'Positive'\n",
    "    \n",
    "savedTweets['Analysis'] = savedTweets['Polarity'].apply(getAnalysis)\n",
    "\n",
    "savedTweets['Analysis'].value_counts() #shows the counts of tweets' polarity\n"
   ]
  },
  {
   "cell_type": "code",
   "execution_count": 10,
   "metadata": {},
   "outputs": [
    {
     "name": "stderr",
     "output_type": "stream",
     "text": [
      "C:\\Users\\yeahs\\AppData\\Local\\Temp\\ipykernel_25304\\1184897458.py:17: FutureWarning: content is deprecated, use rawContent instead\n",
      "  tweets_list.append([tweet.content])\n"
     ]
    },
    {
     "data": {
      "text/plain": [
       "Positive    44\n",
       "Neutral     43\n",
       "Negative    19\n",
       "Name: Analysis, dtype: int64"
      ]
     },
     "execution_count": 10,
     "metadata": {},
     "output_type": "execute_result"
    }
   ],
   "source": [
    "from datetime import date\n",
    "import snscrape.modules.twitter as sntwitter\n",
    "import pandas as pd\n",
    "import numpy as np\n",
    "\n",
    "# Create a list to append tweet data\n",
    "keywords = ['UCSB strike', 'UCSB TA', 'UCSB grad', 'UCSB grading', 'UCSB UAW', 'UCSB agreement', 'UCSB striking', 'UCSB research', 'UCSB union', 'UCSB protest', 'UCSB picket', 'SB strike']\n",
    "tweets_list = []\n",
    "start = \"2022-12-19\"\n",
    "end = \"2022-12-26\"\n",
    "maxTweets = 1000\n",
    "# Using TwitterSearchScraper to scrape data and append tweets to list\n",
    "for keyword in keywords:\n",
    "    for i,tweet in enumerate(sntwitter.TwitterSearchScraper(f'{keyword} + since:{start} until:{end} + include:replies').get_items()):\n",
    "        if i>maxTweets:\n",
    "            break\n",
    "        tweets_list.append([tweet.content])\n",
    "    \n",
    "# Creating a dataframe from the tweets list above\n",
    "tweets_to_df = pd.DataFrame(tweets_list, columns=['Tweets'])\n",
    "\n",
    "\n",
    "#clean the tweets with a function\n",
    "def cleanTweets(text):\n",
    "    text = re.sub('@[A-Za-z0-9_]+', '', text) #removes @mentions\n",
    "    text = re.sub('#','',text) #removes hastag '#' symbol\n",
    "    text = re.sub('RT[\\s]+','',text)\n",
    "    text = re.sub('https?:\\/\\/\\S+', '', text) \n",
    "    text = re.sub('\\n',' ',text)\n",
    "    return text\n",
    "tweets_to_df['cleanedTweets'] = tweets_to_df['Tweets'].apply(cleanTweets) #apply cleanTweet function to the tweet\n",
    "\n",
    "\n",
    "tweets_to_df.to_csv('tweets_crypto.csv') #write dataframe into csv file\n",
    "savedTweets = pd.read_csv('tweets_crypto.csv',index_col=0) #reads csv file\n",
    "\n",
    "#get subjectivity and polarity of tweets with a function\n",
    "def getSubjectivity(text):\n",
    "    return TextBlob(text).sentiment.subjectivity\n",
    "#get polarity with a function\n",
    "def getPolarity(text):\n",
    "    return TextBlob(text).sentiment.polarity\n",
    "savedTweets['Subjectivity'] = savedTweets['cleanedTweets'].apply(getSubjectivity)\n",
    "savedTweets['Polarity'] = savedTweets['cleanedTweets'].apply(getPolarity)\n",
    "\n",
    "#create a function to check negative, neutral and positive analysis\n",
    "def getAnalysis(score):\n",
    "    if score<=-0.1:\n",
    "        return 'Negative'\n",
    "    elif score >-0.1 and score <0.1:\n",
    "        return 'Neutral'\n",
    "    else:\n",
    "        return 'Positive'\n",
    "    \n",
    "savedTweets['Analysis'] = savedTweets['Polarity'].apply(getAnalysis)\n",
    "\n",
    "savedTweets['Analysis'].value_counts() #shows the counts of tweets' polarity\n"
   ]
  },
  {
   "cell_type": "code",
   "execution_count": 11,
   "metadata": {},
   "outputs": [
    {
     "name": "stderr",
     "output_type": "stream",
     "text": [
      "C:\\Users\\yeahs\\AppData\\Local\\Temp\\ipykernel_25304\\1735541542.py:14: FutureWarning: content is deprecated, use rawContent instead\n",
      "  tweets_list.append([tweet.content])\n"
     ]
    },
    {
     "name": "stdout",
     "output_type": "stream",
     "text": [
      "Positive Sentiment: 28.00\n",
      "*Neutral Sentiment: 20.00\n",
      "*Negative Sentiment: 17.00\n",
      "*"
     ]
    }
   ],
   "source": [
    "from datetime import date\n",
    "import snscrape.modules.twitter as sntwitter\n",
    "import pandas as pd\n",
    "import numpy as np\n",
    "\n",
    "# Create a list to append tweet data\n",
    "keyword = 'uaw2865sb'\n",
    "tweets_list = []\n",
    "start = \"2022-11-07\"\n",
    "end = \"2022-12-26\"\n",
    "for i,tweet in enumerate(sntwitter.TwitterSearchScraper('from:uaw2865sb since:2022-11-07 until:2022-12-25').get_items()):\n",
    "    if i>500:\n",
    "        break\n",
    "    tweets_list.append([tweet.content])\n",
    "    \n",
    "# Creating a dataframe from the tweets list above \n",
    "tweets_df1 = pd.DataFrame(tweets_list, columns=['Text'])\n",
    "\n",
    "def cleanTxt(text):\n",
    "    text = re.sub('@[A-Za-z0–9]+', '', text) #Removing @mentions\n",
    "    text = re.sub('#', '', text) # Removing '#' hash tag\n",
    "    text = re.sub('RT[\\s]+', '', text) # Removing RT\n",
    "    text = re.sub('https?:\\/\\/\\S+', '', text) # Removing hyperlink\n",
    "    return text\n",
    "\n",
    "#applying this function to Text column of our dataframe\n",
    "tweets_df1[\"Text\"] = tweets_df1[\"Text\"].apply(cleanTxt)\n",
    "\n",
    "def percentage(part,whole):\n",
    "    return 100 * float(part)/float(whole)\n",
    "\n",
    "#Assigning Initial Values\n",
    "positive = 0\n",
    "negative = 0\n",
    "neutral = 0\n",
    "#Creating empty lists\n",
    "tweet_list1 = []\n",
    "neutral_list = []\n",
    "negative_list = []\n",
    "positive_list = []\n",
    "\n",
    "#Iterating over the tweets in the dataframe\n",
    "for tweet in tweets_df1['Text']:\n",
    "    tweet_list1.append(tweet)\n",
    "    analyzer = SentimentIntensityAnalyzer().polarity_scores(tweet)\n",
    "    neg = analyzer['neg']\n",
    "    neu = analyzer['neu']\n",
    "    pos = analyzer['pos']\n",
    "    comp = analyzer['compound']\n",
    "\n",
    "    if neg > pos:\n",
    "        negative_list.append(tweet) #appending the tweet that satisfies this condition\n",
    "        negative += 1 #increasing the count by 1\n",
    "    elif pos > neg:\n",
    "        positive_list.append(tweet) #appending the tweet that satisfies this condition\n",
    "        positive += 1 #increasing the count by 1\n",
    "    elif pos == neg:\n",
    "        neutral_list.append(tweet) #appending the tweet that satisfies this condition\n",
    "        neutral += 1 #increasing the count by 1 \n",
    "\n",
    "positive = percentage(positive, len(tweets_df1)) #percentage is the function defined above\n",
    "negative = percentage(negative, len(tweets_df1))\n",
    "neutral = percentage(neutral, len(tweets_df1))\n",
    "\n",
    "tweet_list1 = pd.DataFrame(tweet_list1)\n",
    "neutral_list = pd.DataFrame(neutral_list)\n",
    "negative_list = pd.DataFrame(negative_list)\n",
    "positive_list = pd.DataFrame(positive_list)\n",
    "#using len(length) function for counting\n",
    "print(\"Positive Sentiment:\", '%.2f' % len(positive_list), end='\\n*')\n",
    "print(\"Neutral Sentiment:\", '%.2f' % len(neutral_list), end='\\n*')\n",
    "print(\"Negative Sentiment:\", '%.2f' % len(negative_list), end='\\n*')\n",
    "\n"
   ]
  },
  {
   "cell_type": "code",
   "execution_count": null,
   "metadata": {},
   "outputs": [],
   "source": []
  }
 ],
 "metadata": {
  "kernelspec": {
   "display_name": "Python 3 (ipykernel)",
   "language": "python",
   "name": "python3"
  },
  "language_info": {
   "codemirror_mode": {
    "name": "ipython",
    "version": 3
   },
   "file_extension": ".py",
   "mimetype": "text/x-python",
   "name": "python",
   "nbconvert_exporter": "python",
   "pygments_lexer": "ipython3",
   "version": "3.9.13"
  },
  "vscode": {
   "interpreter": {
    "hash": "aee8b7b246df8f9039afb4144a1f6fd8d2ca17a180786b69acc140d282b71a49"
   }
  }
 },
 "nbformat": 4,
 "nbformat_minor": 2
}
